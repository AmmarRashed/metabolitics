{
 "cells": [
  {
   "cell_type": "code",
   "execution_count": 1,
   "metadata": {
    "collapsed": true
   },
   "outputs": [],
   "source": [
    "import os\n",
    "os.chdir(os.path.join(os.getcwd(),'..'))"
   ]
  },
  {
   "cell_type": "code",
   "execution_count": 2,
   "metadata": {
    "collapsed": true
   },
   "outputs": [],
   "source": [
    "import numpy as np\n",
    "import pandas as pd\n",
    "from scipy.spatial.distance import pdist, squareform\n",
    "\n",
    "pd.set_option('display.max_columns', None)\n",
    "pd.set_option('display.max_rows', None)"
   ]
  },
  {
   "cell_type": "code",
   "execution_count": 3,
   "metadata": {
    "collapsed": true
   },
   "outputs": [],
   "source": [
    "stage_in = lambda x: x[6:7]\n",
    "age_in = lambda x: int(x[-2:])"
   ]
  },
  {
   "cell_type": "code",
   "execution_count": 4,
   "metadata": {
    "collapsed": true
   },
   "outputs": [],
   "source": [
    "from services import DataReader\n",
    "\n",
    "X_pathifier, y = DataReader().read_analyze_solution('bc_pathifier_analysis#k=0')"
   ]
  },
  {
   "cell_type": "code",
   "execution_count": 5,
   "metadata": {},
   "outputs": [
    {
     "data": {
      "text/plain": [
       "N-glycan degradation                                 0.874211\n",
       "Keratan sulfate degradation                          0.874211\n",
       "Valine, leucine, and isoleucine metabolism           0.849739\n",
       "Urea cycle                                           0.802273\n",
       "Citric acid cycle                                    0.747137\n",
       "Alanine and aspartate metabolism                     0.700397\n",
       "Vitamin C metabolism                                 0.687730\n",
       "Arginine and Proline Metabolism                      0.617700\n",
       "Lysine metabolism                                    0.601312\n",
       "Glyoxylate and dicarboxylate metabolism              0.585649\n",
       "Methionine and cysteine metabolism                   0.433529\n",
       "Glycerophospholipid metabolism                       0.343179\n",
       "Tryptophan metabolism                                0.314679\n",
       "Tyrosine metabolism                                  0.271014\n",
       "Sphingolipid metabolism                              0.264335\n",
       "Eicosanoid metabolism                                0.227695\n",
       "Miscellaneous                                        0.188751\n",
       "Pentose phosphate pathway                            0.186842\n",
       "Fatty acid oxidation                                 0.179407\n",
       "Pyruvate metabolism                                  0.139523\n",
       "Glycolysis/gluconeogenesis                           0.108647\n",
       "Glycine, serine, alanine and threonine metabolism    0.075039\n",
       "dtype: float64"
      ]
     },
     "execution_count": 5,
     "metadata": {},
     "output_type": "execute_result"
    }
   ],
   "source": [
    "pd.DataFrame.from_records(X_pathifier).mean().sort_values(ascending=False)"
   ]
  }
 ],
 "metadata": {
  "anaconda-cloud": {},
  "kernelspec": {
   "display_name": "Python 3",
   "language": "python",
   "name": "python3"
  },
  "language_info": {
   "codemirror_mode": {
    "name": "ipython",
    "version": 3
   },
   "file_extension": ".py",
   "mimetype": "text/x-python",
   "name": "python",
   "nbconvert_exporter": "python",
   "pygments_lexer": "ipython3",
   "version": "3.5.2"
  }
 },
 "nbformat": 4,
 "nbformat_minor": 1
}
